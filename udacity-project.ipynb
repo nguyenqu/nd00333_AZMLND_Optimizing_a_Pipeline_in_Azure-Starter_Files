{
 "cells": [
  {
   "cell_type": "code",
   "execution_count": null,
   "metadata": {
    "gather": {
     "logged": 1598275788035
    }
   },
   "outputs": [],
   "source": [
    "from azureml.core import Workspace, Experiment\n",
    "\n",
    "ws = Workspace.from_config()\n",
    "exp = Experiment(workspace=ws, name=\"udacity-project\")\n",
    "\n",
    "print('Workspace name: ' + ws.name, \n",
    "      'Azure region: ' + ws.location, \n",
    "      'Subscription id: ' + ws.subscription_id, \n",
    "      'Resource group: ' + ws.resource_group, sep = '\\n')\n",
    "\n",
    "run = exp.start_logging()"
   ]
  },
  {
   "cell_type": "code",
   "execution_count": null,
   "metadata": {
    "gather": {
     "logged": 1598275788675
    },
    "jupyter": {
     "outputs_hidden": false,
     "source_hidden": false
    },
    "nteract": {
     "transient": {
      "deleting": false
     }
    }
   },
   "outputs": [],
   "source": [
    "from azureml.core.compute import ComputeTarget, AmlCompute\n",
    "\n",
    "##cluster_name = \"GIVE_A_CLUSTER_NAME\"\n",
    "cluster_name = \"compute-cluster\"\n",
    "\n",
    "# TODO: Create compute cluster\n",
    "# Use vm_size = \"Standard_D2_V2\" in your provisioning configuration.\n",
    "# max_nodes should be no greater than 4.\n",
    "\n",
    "### YOUR CODE HERE ###\n",
    "\n",
    "# Verify that cluster does not exist already\n",
    "try:\n",
    "    compute_target = ComputeTarget(workspace=ws, name=cluster_name)\n",
    "    print('Found existing cluster, use it.')\n",
    "except ComputeTargetException:\n",
    "    print('Creating a new compute cluster...')\n",
    "    # Specify the configuration for the new cluster\n",
    "    compute_config = AmlCompute.provisioning_configuration(vm_size='STANDARD_D2_V2', max_nodes=4)\n",
    "    # Create the cluster with the specified name and configuration\n",
    "    compute_target = ComputeTarget.create(workspace=ws,\n",
    "                                        name=cluster_name, \n",
    "                                        provisioning_configuration=compute_config)\n",
    "\n",
    "# Wait for the cluster to complete, show the output log\n",
    "compute_target.wait_for_completion(show_output=True)\n",
    "\n",
    "# use get_status() to get a detailed status for the current cluster. \n",
    "print(compute_target.get_status().serialize())\n"
   ]
  },
  {
   "cell_type": "code",
   "execution_count": null,
   "metadata": {
    "gather": {
     "logged": 1598275789986
    },
    "jupyter": {
     "outputs_hidden": false,
     "source_hidden": false
    },
    "nteract": {
     "transient": {
      "deleting": false
     }
    }
   },
   "outputs": [],
   "source": [
    "from azureml.widgets import RunDetails\n",
    "from azureml.train.sklearn import SKLearn\n",
    "from azureml.train.hyperdrive.run import PrimaryMetricGoal\n",
    "from azureml.train.hyperdrive.policy import BanditPolicy\n",
    "from azureml.train.hyperdrive.sampling import RandomParameterSampling\n",
    "from azureml.train.hyperdrive.runconfig import HyperDriveConfig\n",
    "from azureml.train.hyperdrive.parameter_expressions import choice, uniform\n",
    "from azureml.core import Environment, ScriptRunConfig\n",
    "import os\n",
    "\n",
    "######### MY CODE ########\n",
    "import shutil\n",
    "##########################\n",
    "\n",
    "# Specify parameter sampler\n",
    "##ps = ### YOUR CODE HERE ###\n",
    "ps = RandomParameterSampling(\n",
    "        {\n",
    "            '--C': choice(0.01, 0.1, 1.0, 10.0, 100.0),\n",
    "            '--max_iter': choice(20, 50, 100, 120, 150)\n",
    "        }\n",
    "    )\n",
    "\n",
    "# Specify a Policy\n",
    "##policy = ### YOUR CODE HERE ###\n",
    "policy = BanditPolicy(evaluation_interval=2, slack_factor=0.1)\n",
    "\n",
    "if \"training\" not in os.listdir():\n",
    "    os.mkdir(\"./training\")\n",
    "\n",
    "######### MY CODE ########\n",
    "train_script = \"./training\"\n",
    "shutil.copy('train.py', train_script)\n",
    "##########################\n",
    "\n",
    "# Setup environment for your training run\n",
    "sklearn_env = Environment.from_conda_specification(name='sklearn-env', file_path='conda_dependencies.yml')\n",
    "\n",
    "# Create a ScriptRunConfig Object to specify the configuration details of your training job\n",
    "##src = ### YOUR CODE HERE ###\n",
    "src = ScriptRunConfig(source_directory=train_script, \n",
    "\t\t\t\t\tscript='train.py', \t\t\n",
    "                    compute_target=compute_target, \t\n",
    "                    environment=sklearn_env)\n",
    "\n",
    "# Create a HyperDriveConfig using the src object, hyperparameter sampler, and policy.\n",
    "##hyperdrive_config = ### YOUR CODE HERE ###\n",
    "hyperdrive_config = HyperDriveConfig(run_config=src, \t\t\t\t\t\t\t\t\t\n",
    "                                    hyperparameter_sampling=ps, \t\t\t\t\t\t\t\t\t\n",
    "                                    policy=policy, \t\t\t\t\t\t\t\t\t\t\t\n",
    "                                    primary_metric_name='validation_acc',               # Accuracy\t\t\t\t\t\t\n",
    "                                    primary_metric_goal=PrimaryMetricGoal.MAXIMIZE, \t\t\t\t \t\t\n",
    "                                    max_total_runs=4, \t\t                            # 20, 100\t\t\t\t\t\t\n",
    "                                    max_concurrent_runs=4) \t\t\t                    # 20"
   ]
  },
  {
   "cell_type": "code",
   "execution_count": null,
   "metadata": {},
   "outputs": [],
   "source": [
    "# Submit your hyperdrive run to the experiment and show run details with the widget.\n",
    "\n",
    "### YOUR CODE HERE ###\n",
    "\n",
    "# Start the HyperDrive run\n",
    "hyperdrive_run = exp.submit(config = hyperdrive_config, show_output = True)\n",
    "\n",
    "# Monitor HyperDrive runs You can monitor the progress of the runs with the following Jupyter widget\n",
    "RunDetails(hyperdrive_run).show()\n",
    "\n",
    "hyperdrive_run.wait_for_completion(show_output=True)\n",
    "\n",
    "# evaluate the the run is indeed complete\n",
    "assert(hyperdrive_run.get_status() == \"Completed\")"
   ]
  },
  {
   "cell_type": "code",
   "execution_count": null,
   "metadata": {
    "gather": {
     "logged": 1598276310862
    },
    "jupyter": {
     "outputs_hidden": false,
     "source_hidden": false
    },
    "nteract": {
     "transient": {
      "deleting": false
     }
    }
   },
   "outputs": [],
   "source": [
    "import joblib\n",
    "# Get your best run and save the model from that run.\n",
    "\n",
    "######### MY CODE ########\n",
    "# get_children_sorted_by_primary_metric: Returns a list of children sorted by their best primary metric.\n",
    "# Each child in the result has run id, hyperparameters, best primary metric value and status.\n",
    "print(hyperdrive_run.get_children_sorted_by_primary_metric(top=0, reverse=False, discard_no_metric=False))  ## top = 1\n",
    "##########################\n",
    "\n",
    "### YOUR CODE HERE ###\n",
    "\n",
    "# Returns the best Run, or None if no child has the primary metric.\n",
    "best_run = hyperdrive_run.get_best_run_by_primary_metric()\n",
    "best_run\n",
    "\n",
    "# get_metrics()\n",
    "# Returns the metrics from all the runs that were launched by this HyperDriveRun.\n",
    "print(\"Best run metrics :\",best_run.get_metrics())\n",
    "\n",
    "best_run_metrics = best_run.get_metrics()\n",
    "print('Accuracy:', best_run_metrics['Accuracy'])\n",
    "\n",
    "# check metrics details\n",
    "best_run_metrics\n",
    "\n",
    "# get_details()\n",
    "# Returns a dictionary with the details for the run\n",
    "print(\"Best run details :\",best_run.get_details())\n",
    "print(best_run.get_details()['runDefinition']['arguments'])\n",
    "\n",
    "# get_file_names()\n",
    "# Returns a list of the files that are stored in association with the run.\n",
    "print(\"Best run file names :\",best_run.get_file_names()) # get name of files of best_run\n",
    "\n",
    "# download the best run and register the model\n",
    "best_run.download_file(name=train_script+'/model.joblib', \t\t\t\t\t\t\t\t\n",
    "                        output_file_path=train_script)\n",
    "\n",
    "# save the model, i.e., output file of best_run\n",
    "model = best_run.register_model(model_name='hyperdrive_run', \t\t\t\t\t\t\t\t\n",
    "                                model_path=train_script+'/model.joblib')\n",
    "\n",
    "# save file\n",
    "os.makedirs('./outputs',exist_ok = True)\n",
    "joblib.dump(value=best_run, filename = 'outputs/bestHDModel.txt')\n",
    "joblib.dump(value=best_run, filename='outputs/bankmarketing_model.pkl')"
   ]
  },
  {
   "cell_type": "code",
   "execution_count": null,
   "metadata": {},
   "outputs": [],
   "source": [
    "from azureml.data.dataset_factory import TabularDatasetFactory\n",
    "\n",
    "# Create TabularDataset using TabularDatasetFactory\n",
    "# Data is available at: \n",
    "# \"https://automlsamplenotebookdata.blob.core.windows.net/automl-sample-notebook-data/bankmarketing_train.csv\"\n",
    "\n",
    "### YOUR CODE HERE ###"
   ]
  },
  {
   "cell_type": "code",
   "execution_count": null,
   "metadata": {
    "gather": {
     "logged": 1598275726969
    },
    "jupyter": {
     "outputs_hidden": false,
     "source_hidden": false
    },
    "nteract": {
     "transient": {
      "deleting": false
     }
    }
   },
   "outputs": [],
   "source": [
    "from train import clean_data\n",
    "\n",
    "# Use the clean_data function to clean your data.\n",
    "x, y = clean_data(### YOUR DATA OBJECT HERE ###)"
   ]
  },
  {
   "cell_type": "code",
   "execution_count": null,
   "metadata": {
    "gather": {
     "logged": 1598275665403
    },
    "jupyter": {
     "outputs_hidden": false,
     "source_hidden": false
    },
    "nteract": {
     "transient": {
      "deleting": false
     }
    }
   },
   "outputs": [],
   "source": [
    "from azureml.train.automl import AutoMLConfig\n",
    "\n",
    "# Set parameters for AutoMLConfig\n",
    "# NOTE: DO NOT CHANGE THE experiment_timeout_minutes PARAMETER OR YOUR INSTANCE WILL TIME OUT.\n",
    "# If you wish to run the experiment longer, you will need to run this notebook in your own\n",
    "# Azure tenant, which will incur personal costs.\n",
    "automl_config = AutoMLConfig(\n",
    "    experiment_timeout_minutes=30,\n",
    "    task=,\n",
    "    primary_metric=,\n",
    "    training_data=,\n",
    "    label_column_name=,\n",
    "    n_cross_validations=)"
   ]
  },
  {
   "cell_type": "code",
   "execution_count": 2,
   "metadata": {
    "jupyter": {
     "outputs_hidden": false,
     "source_hidden": false
    },
    "nteract": {
     "transient": {
      "deleting": false
     }
    }
   },
   "outputs": [],
   "source": [
    "# Submit your automl run\n",
    "\n",
    "### YOUR CODE HERE ###"
   ]
  },
  {
   "cell_type": "code",
   "execution_count": null,
   "metadata": {},
   "outputs": [],
   "source": [
    "# Retrieve and save your best automl model.\n",
    "\n",
    "### YOUR CODE HERE ###"
   ]
  }
 ],
 "metadata": {
  "kernel_info": {
   "name": "python3-azureml"
  },
  "kernelspec": {
   "display_name": "Python 3",
   "language": "python",
   "name": "python3"
  },
  "language_info": {
   "codemirror_mode": {
    "name": "ipython",
    "version": 3
   },
   "file_extension": ".py",
   "mimetype": "text/x-python",
   "name": "python",
   "nbconvert_exporter": "python",
   "pygments_lexer": "ipython3",
   "version": "3.7.4"
  },
  "nteract": {
   "version": "nteract-front-end@1.0.0"
  }
 },
 "nbformat": 4,
 "nbformat_minor": 2
}
